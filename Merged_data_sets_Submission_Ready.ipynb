{
 "cells": [
  {
   "cell_type": "markdown",
   "id": "4437ae54",
   "metadata": {},
   "source": [
    "\n",
    "# 📚 Merged Data Sets Analysis\n",
    "**Name:** [Your Name]  \n",
    "**Date:** [Submission Date]  \n",
    "**Course:** Data Analytics Bootcamp  \n",
    "\n",
    "---\n",
    "\n",
    "## Introduction\n",
    "In this notebook, I merge and explore different data sources to prepare them for further analysis.  \n",
    "Datasets used:\n",
    "- Experiment Client Data\n",
    "- Web Data Part 1\n",
    "- Web Data Part 2\n"
   ]
  },
  {
   "cell_type": "markdown",
   "id": "5a3e52be",
   "metadata": {},
   "source": [
    "## 1. Importing Libraries"
   ]
  },
  {
   "cell_type": "code",
   "execution_count": null,
   "id": "c8a64ad2",
   "metadata": {},
   "outputs": [],
   "source": [
    "\n",
    "# Import necessary libraries\n",
    "import pandas as pd\n",
    "import matplotlib.pyplot as plt\n"
   ]
  },
  {
   "cell_type": "markdown",
   "id": "26a896dc",
   "metadata": {},
   "source": [
    "## 2. Loading Data"
   ]
  },
  {
   "cell_type": "code",
   "execution_count": null,
   "id": "12a36389",
   "metadata": {},
   "outputs": [],
   "source": [
    "\n",
    "# Load Experiment Client Data\n",
    "df_experiment = pd.read_csv(\"df_final_experiment_clients.txt\")\n",
    "\n",
    "# Load Web Data Parts 1 and 2\n",
    "df_web1 = pd.read_csv(\"df_final_web_data_pt_1.txt\")\n",
    "df_web2 = pd.read_csv(\"df_final_web_data_pt_2.txt\")\n"
   ]
  },
  {
   "cell_type": "markdown",
   "id": "e36235eb",
   "metadata": {},
   "source": [
    "## 3. Initial Exploration"
   ]
  },
  {
   "cell_type": "code",
   "execution_count": null,
   "id": "af0b2129",
   "metadata": {},
   "outputs": [],
   "source": [
    "\n",
    "# Check shapes of the web datasets\n",
    "print(\"Shape of Web Data Part 1:\", df_web1.shape)\n",
    "print(\"Shape of Web Data Part 2:\", df_web2.shape)\n",
    "\n",
    "# Display column names\n",
    "print(\"Columns in Part 1:\", df_web1.columns.tolist())\n",
    "print(\"Columns in Part 2:\", df_web2.columns.tolist())\n",
    "\n",
    "# Preview first few rows\n",
    "df_experiment.head()\n"
   ]
  },
  {
   "cell_type": "markdown",
   "id": "1fbbf7a0",
   "metadata": {},
   "source": [
    "## 4. Data Merging"
   ]
  },
  {
   "cell_type": "code",
   "execution_count": null,
   "id": "7e6b9704",
   "metadata": {},
   "outputs": [],
   "source": [
    "\n",
    "# Concatenate Web Data\n",
    "df_web = pd.concat([df_web1, df_web2], ignore_index=True)\n",
    "print(\"Shape of merged Web Data:\", df_web.shape)\n"
   ]
  },
  {
   "cell_type": "markdown",
   "id": "69f351a0",
   "metadata": {},
   "source": [
    "## 5. Basic Cleaning and Visualization"
   ]
  },
  {
   "cell_type": "code",
   "execution_count": null,
   "id": "d986296e",
   "metadata": {},
   "outputs": [],
   "source": [
    "\n",
    "# Check for missing values\n",
    "print(df_web.isnull().sum())\n",
    "\n",
    "# Simple plot: Distribution of process_step in merged web data\n",
    "df_web['process_step'].value_counts().plot(kind='bar')\n",
    "plt.title('Distribution of Process Steps (Merged Web Data)')\n",
    "plt.xlabel('Process Step')\n",
    "plt.ylabel('Count')\n",
    "plt.show()\n"
   ]
  },
  {
   "cell_type": "markdown",
   "id": "37a0a6b1",
   "metadata": {},
   "source": [
    "\n",
    "## Conclusion\n",
    "In this notebook, I successfully merged and inspected the client and web datasets.  \n",
    "Basic cleaning steps and preliminary visualizations have been performed.  \n",
    "Next steps will include deeper exploratory data analysis and possibly preparing the data for modeling.\n"
   ]
  }
 ],
 "metadata": {
  "kernelspec": {
   "display_name": "base",
   "language": "python",
   "name": "python3"
  },
  "language_info": {
   "codemirror_mode": {
    "name": "ipython",
    "version": 3
   },
   "file_extension": ".py",
   "mimetype": "text/x-python",
   "name": "python",
   "nbconvert_exporter": "python",
   "pygments_lexer": "ipython3",
   "version": "3.12.7"
  }
 },
 "nbformat": 4,
 "nbformat_minor": 5
}
